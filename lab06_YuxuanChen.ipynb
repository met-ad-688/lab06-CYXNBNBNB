{
 "cells": [
  {
   "cell_type": "markdown",
   "metadata": {},
   "source": [
    "---\n",
    "title: \"Module 04: Lab 01\"\n",
    "subtitle: \"Visual Reporting and Storytelling\"\n",
    "author: \"Yuxuan Chen\"\n",
    "number-sections: true\n",
    "date: \"2025-3-20\"\n",
    "date-modified: today\n",
    "date-format: long\n",
    "engine: jupyter\n",
    "categories: [\"visualization\",\"plotly\",\"spark\",\"Visual Reporting\",\"Storytelling with Data\",\"Industry-Specific Visualization\",]\n",
    "execute:\n",
    "  eval: true #false 不运行  true 运行\n",
    "  echo: true  #显示代码\n",
    "---"
   ]
  },
  {
   "cell_type": "markdown",
   "metadata": {
    "vscode": {
     "languageId": "plaintext"
    }
   },
   "source": [
    "# Objectives {.unnumbered}\n",
    "\n",
    "By the end of this lab, you will:\n",
    "1. Load and analyze the **Lightcast dataset** in **Spark DataFrame**.\n",
    "2. Create **five easy and three medium-complexity visualizations** using **Plotly**.\n",
    "3. Explore **salary distributions, employment trends, and job postings**.\n",
    "4. Analyze **skills in relation to NAICS/SOC/ONET codes and salaries**.\n",
    "5. Customize **colors, fonts, and styles** in all visualizations (**default themes result in a 2.5-point deduction**).\n",
    "6. Follow **best practices for reporting on data communication**."
   ]
  },
  {
   "cell_type": "markdown",
   "metadata": {
    "vscode": {
     "languageId": "plaintext"
    }
   },
   "source": [
    "# Step 1: Load the Dataset {.unnumbered}\n"
   ]
  },
  {
   "cell_type": "code",
   "execution_count": null,
   "metadata": {},
   "outputs": [],
   "source": [
    "import pandas as pd\n",
    "import plotly.express as px\n",
    "import plotly.io as pio\n",
    "pio.renderers.default = \"vscode\"\n",
    "from pyspark.sql import SparkSession\n",
    "from pyspark.sql.functions import split, explode, col, regexp_replace, transform\n",
    "\n",
    "\n",
    "# Initialize Spark Session\n",
    "spark = SparkSession.builder.appName(\"LightcastData\").getOrCreate()\n",
    "\n",
    "# Load Data\n",
    "df = spark.read.option(\"header\", \"true\").option(\"inferSchema\", \"true\").option(\"multiLine\",\"true\").option(\"escape\", \"\\\"\").csv(\"./data/lightcast_job_postings.csv\")\n",
    "\n",
    "# Show Schema and Sample Data\n",
    "df.printSchema()\n",
    "df.show(5)\n"
   ]
  },
  {
   "cell_type": "markdown",
   "metadata": {
    "vscode": {
     "languageId": "plaintext"
    }
   },
   "source": [
    "# Salary Distribution by Employment Type\n",
    "- Identify salary trends across different employment types.\n",
    "- **Filter the dataset**\n",
    "  - Remove records where **salary is missing or zero**.\n",
    "- **Aggregate Data**\n",
    "  - Group by **employment type** and compute salary distribution.\n",
    "- **Visualize results**\n",
    "  - Create a **box plot** where:\n",
    "    - **X-axis** = `EMPLOYMENT_TYPE_NAME`\n",
    "    - **Y-axis** = `SALARY_FROM`\n",
    "  - Customize **colors, fonts, and styles** to avoid a **2.5-point deduction**.\n",
    "- **Explanation:** Write two sentences about what the graph reveals.\n",
    "\n"
   ]
  },
  {
   "cell_type": "code",
   "execution_count": null,
   "metadata": {},
   "outputs": [],
   "source": [
    "# Your Code for 1st question here\n",
    "df = df.filter((col(\"SALARY_FROM\").isNotNull()) & (col(\"SALARY_FROM\") > 0))\n",
    "\n",
    "pdf = df.select(\"EMPLOYMENT_TYPE_NAME\", \"SALARY\").toPandas()\n",
    "pdf.head()\n",
    "\n",
    "fig = px.box(pdf, x=\"EMPLOYMENT_TYPE_NAME\", y=\"SALARY\", title=\"Salary Distribution by Employment Type\", color_discrete_sequence=[\"#36648B\"])\n",
    "fig.update_layout(font_family=\"Arial\", title_font_size=30, title_x=0.5)\n",
    "fig.show()\n",
    "\n",
    "fig.write_image(\"output/Q1.png\", width=1920, height=540, scale=2)"
   ]
  },
  {
   "cell_type": "markdown",
   "metadata": {},
   "source": [
    "![Question 1](output/Q1.png)"
   ]
  },
  {
   "cell_type": "markdown",
   "metadata": {},
   "source": [
    "This chart shows the salary distribution across different employment types, including part-time/full-time, full-time (> 32 hours), and part-time (around 32 hours). It highlights that full-time workers generally earn higher salaries compared to part-time workers."
   ]
  },
  {
   "cell_type": "markdown",
   "metadata": {
    "vscode": {
     "languageId": "plaintext"
    }
   },
   "source": [
    "# Salary Distribution by Industry\n",
    "- Compare salary variations across industries.\n",
    "- **Filter the dataset**\n",
    "  - Keep records where **salary is greater than zero**.\n",
    "- **Aggregate Data**\n",
    "  - Group by **NAICS industry codes**.\n",
    "- **Visualize results**\n",
    "  - Create a **box plot** where:\n",
    "    - **X-axis** = `NAICS2_NAME`\n",
    "    - **Y-axis** = `SALARY_FROM`\n",
    "  - Customize colors, fonts, and styles.\n",
    "- **Explanation:** Write two sentences about what the graph reveals."
   ]
  },
  {
   "cell_type": "code",
   "execution_count": null,
   "metadata": {},
   "outputs": [],
   "source": [
    "# Your code for 2nd question here\n",
    "df = df.filter(col(\"SALARY_FROM\") > 0)\n",
    "\n",
    "pdf = df.select(\"NAICS2_NAME\", \"SALARY_FROM\").toPandas()\n",
    "pdf.head()\n",
    "\n",
    "fig = px.box(\n",
    "    pdf, \n",
    "    x=\"NAICS2_NAME\", \n",
    "    y=\"SALARY_FROM\", \n",
    "    title=\"Salary Distribution by Employment Type\", \n",
    "    color_discrete_sequence=[\"#36648B\"]\n",
    ")\n",
    "\n",
    "fig.update_layout(\n",
    "    font_family=\"Arial\",\n",
    "    title_font_size=30,                # 标题字体大小\n",
    "    title_x=0.5,                       # 标题居中\n",
    "    width=1400,                        # 增大宽度\n",
    "    height=800,                        # 增大高度\n",
    "    xaxis_title=\"Employment Type\",     # X轴标签\n",
    "    yaxis_title=\"Salary From ($)\",     # Y轴标签\n",
    "    xaxis=dict(\n",
    "        tickangle=45,                  # X轴标签旋转角度\n",
    "        showgrid=True,                 # 显示网格线\n",
    "        gridcolor=\"rgba(211, 211, 211, 0.3)\"  # 网格线颜色\n",
    "    ),\n",
    "    yaxis=dict(\n",
    "        showgrid=True,\n",
    "        gridcolor=\"rgba(211, 211, 211, 0.3)\"\n",
    "    ),\n",
    "    legend=dict(\n",
    "        title=\"Employment Type\",\n",
    "        font=dict(family=\"Arial\", size=14, color=\"black\"),\n",
    "        bgcolor=\"rgba(255, 255, 255, 0.8)\",     # 图例背景色\n",
    "        bordercolor=\"rgba(0, 0, 0, 0.1)\",        # 图例边框\n",
    "        borderwidth=1\n",
    "    )\n",
    ")\n",
    "\n",
    "# 优化箱线图样式\n",
    "fig.update_traces(\n",
    "    marker=dict(opacity=0.7, line=dict(width=1.5)),   # 数据点透明度和边框线宽\n",
    "    boxmean=True,                                     # 显示均值线\n",
    "    jitter=0.3,                                       # 数据点抖动效果\n",
    "    line=dict(width=2)                                # 箱线图边框线宽度\n",
    ")\n",
    "\n",
    "fig.show()\n",
    "\n",
    "fig.write_image(\"output/Q2.png\", width=1920, height=1080, scale=2)"
   ]
  },
  {
   "cell_type": "markdown",
   "metadata": {},
   "source": [
    "![Question 2](output/Q2.png)"
   ]
  },
  {
   "cell_type": "markdown",
   "metadata": {},
   "source": [
    "This chart illustrates the salary distribution across various industries and employment types. It shows significant differences in median salaries across industries, with sectors like Information having higher median salaries compared to sectors like Educational Services."
   ]
  },
  {
   "cell_type": "markdown",
   "metadata": {},
   "source": [
    "# Job Posting Trends Over Time\n",
    "- Analyze how job postings fluctuate over time.\n",
    "- **Aggregate Data**\n",
    "  - Count job postings per **posted date (`POSTED`)**.\n",
    "- **Visualize results**\n",
    "  - Create a **line chart** where:\n",
    "    - **X-axis** = `POSTED`\n",
    "    - **Y-axis** = `Number of Job Postings`\n",
    "  - Apply custom colors and font styles.\n",
    "- **Explanation:** Write two sentences about what the graph reveals."
   ]
  },
  {
   "cell_type": "code",
   "execution_count": null,
   "metadata": {},
   "outputs": [],
   "source": [
    "# Your code for 3rd question here\n",
    "df_aggregated = df.groupBy(\"POSTED\").count()\n",
    "pdf = df_aggregated.toPandas()\n",
    "\n",
    "fig = px.line(pdf, x=\"POSTED\", y=\"count\", title=\"Job Postings Over Time\", line_shape=\"linear\",\n",
    "              color_discrete_sequence=[\"#36648B\"])\n",
    "\n",
    "fig.update_layout(\n",
    "    font_family=\"Arial\",\n",
    "    title_font_size=24,\n",
    "    xaxis_title=\"Posted Date\",\n",
    "    yaxis_title=\"Number of Job Postings\",\n",
    "    title_x=0.5\n",
    ")\n",
    "\n",
    "fig.show()\n",
    "\n",
    "fig.write_image(\"output/Q3.png\", width=1920, height=540, scale=2)"
   ]
  },
  {
   "cell_type": "markdown",
   "metadata": {},
   "source": [
    "![Question 3](output/Q3.png)"
   ]
  },
  {
   "cell_type": "markdown",
   "metadata": {},
   "source": [
    "This chart illustrates the fluctuating number of job postings over time, with several peaks indicating periods of increased hiring activity. The data reveals a dynamic job market with varying demand for labor, which could be influenced by economic cycles or seasonal factors."
   ]
  },
  {
   "cell_type": "markdown",
   "metadata": {},
   "source": [
    "# Top 10 Job Titles by Count\n",
    "- Identify the most frequently posted job titles.\n",
    "- **Aggregate Data**\n",
    "  - Count the occurrences of each **job title (`TITLE_NAME`)**.\n",
    "  - Select the **top 10 most frequent titles**.\n",
    "- **Visualize results**\n",
    "  - Create a **bar chart** where:\n",
    "    - **X-axis** = `TITLE_NAME`\n",
    "    - **Y-axis** = `Job Count`\n",
    "  - Apply custom colors and font styles.\n",
    "- **Explanation:** Write two sentences about what the graph reveals."
   ]
  },
  {
   "cell_type": "code",
   "execution_count": null,
   "metadata": {},
   "outputs": [],
   "source": [
    "# Your code for 4th question here\n",
    "df_aggregated = df.groupBy(\"TITLE_NAME\").count()\n",
    "df_top_10 = df_aggregated.orderBy(col(\"count\").desc()).limit(10)\n",
    "pdf = df_top_10.toPandas()\n",
    "\n",
    "fig = px.bar(pdf, x=\"TITLE_NAME\", y=\"count\", title=\"Top 10 Most Frequently Posted Job Titles\", \n",
    "             color=\"count\", color_continuous_scale=\"Blues\")\n",
    "\n",
    "fig.update_layout(\n",
    "    font_family=\"Arial\",\n",
    "    title_font_size=24,\n",
    "    xaxis_title=\"Job Title\",\n",
    "    yaxis_title=\"Job Count\",\n",
    "    title_x=0.5\n",
    ")\n",
    "\n",
    "fig.show()\n",
    "\n",
    "fig.write_image(\"output/Q4.png\", width=1920, height=640, scale=2)"
   ]
  },
  {
   "cell_type": "markdown",
   "metadata": {},
   "source": [
    "![Question 4](output/Q4.png)"
   ]
  },
  {
   "cell_type": "markdown",
   "metadata": {},
   "source": [
    "This bar chart shows the top 10 most frequently posted job titles. It highlights that \"Data Analysts\" have the highest number of postings, followed by \"Unclassified\" and \"Business Intelligence Analysts\". The number of jobs posted for 'Data Analyst' is significantly higher than other jobs."
   ]
  },
  {
   "cell_type": "markdown",
   "metadata": {},
   "source": [
    "# Remote vs On-Site Job Postings\n",
    "- Compare the proportion of remote and on-site job postings.\n",
    "- **Aggregate Data**\n",
    "  - Count job postings by **remote type (`REMOTE_TYPE_NAME`)**.\n",
    "- **Visualize results**\n",
    "  - Create a **pie chart** where:\n",
    "    - **Labels** = `REMOTE_TYPE_NAME`\n",
    "    - **Values** = `Job Count`\n",
    "  - Apply custom colors and font styles.\n",
    "- **Explanation:** Write two sentences about what the graph reveals."
   ]
  },
  {
   "cell_type": "code",
   "execution_count": null,
   "metadata": {},
   "outputs": [],
   "source": [
    "# Your code for 5th question here\n",
    "df_aggregated = df.groupBy(\"REMOTE_TYPE_NAME\").count()\n",
    "pdf = df_aggregated.toPandas()\n",
    "\n",
    "fig = px.pie(pdf, names=\"REMOTE_TYPE_NAME\", values=\"count\", title=\"Proportion of Remote vs On-site Job Postings\",\n",
    "             color=\"REMOTE_TYPE_NAME\", color_discrete_map={\"Remote\": \"#00A3E0\", \"On-site\": \"#FF6F61\"})\n",
    "\n",
    "fig.update_layout(\n",
    "    font_family=\"Arial\",\n",
    "    title_font_size=24,\n",
    "    title_x=0.5\n",
    ")\n",
    "\n",
    "fig.show()\n",
    "\n",
    "fig.write_image(\"output/Q5.png\", width=960, height=540, scale=2)"
   ]
  },
  {
   "cell_type": "markdown",
   "metadata": {},
   "source": [
    "![Question 5](output/Q5.png)"
   ]
  },
  {
   "cell_type": "markdown",
   "metadata": {},
   "source": [
    "This pie chart shows the proportion of remote and on-site job postings. It indicates that a majority of jobs (73.2%) are on-site, while 21.3% are remote, 3.55% are hybrid remote, and 1.94% are not remote, reflecting a growing trend towards remote work."
   ]
  },
  {
   "cell_type": "markdown",
   "metadata": {},
   "source": [
    "# Skill Demand Analysis by Industry (Stacked Bar Chart)\n",
    "- Identify which skills are most in demand in various industries.\n",
    "- **Aggregate Data**\n",
    "  - Extract **skills** from job postings.\n",
    "  - Count occurrences of skills grouped by **NAICS industry codes**.\n",
    "- **Visualize results**\n",
    "  - Create a **stacked bar chart** where:\n",
    "    - **X-axis** = `Industry`\n",
    "    - **Y-axis** = `Skill Count`\n",
    "    - **Color** = `Skill`\n",
    "  - Apply custom colors and font styles.\n",
    "- **Explanation:** Write two sentences about what the graph reveals."
   ]
  },
  {
   "cell_type": "code",
   "execution_count": null,
   "metadata": {},
   "outputs": [],
   "source": [
    "# Your code for 6th question here\n",
    "import pandas as pd\n",
    "import matplotlib.pyplot as plt\n",
    "import seaborn as sns\n",
    "\n",
    "# 将 df DataFrame 中的 \"SKILLS_NAME\" 列的字符串数据按指定的分隔符 \",\\n \" 进行分割\n",
    "df_split = df.withColumn(\"SKILLS_NAME\", split(col(\"SKILLS_NAME\"), \",\\n  \"))\n",
    "\n",
    "# 去掉 SKILLS_NAME 列中每个字符串末尾的换行符\n",
    "df_split = df_split.withColumn(\n",
    "    \"SKILLS_NAME\",\n",
    "    transform(\n",
    "        col(\"SKILLS_NAME\"),\n",
    "        lambda x: regexp_replace(x, r'\\n', '')  # 替换每个字符串末尾的换行符\n",
    "    )\n",
    ")\n",
    "\n",
    "# 将每个数组元素展开为单独的行存放进skill列\n",
    "df_exploded = df_split.withColumn(\"Skill\", explode(col(\"SKILLS_NAME\")))\n",
    "\n",
    "# 对 df_exploded 进行分组，并对每组数据进行计数\n",
    "df_aggregated = df_exploded.groupBy(\"NAICS2_NAME\", \"Skill\").count()\n",
    "\n",
    "# Convert the result to Pandas DataFrame for plotting\n",
    "pdf = df_aggregated.toPandas()\n",
    "\n",
    "\n",
    "\n",
    "\n",
    "\n",
    "# 计算每个技能的总数量\n",
    "skill_count = pdf.groupby('Skill')['count'].sum().sort_values(ascending=False)\n",
    "\n",
    "# 选择最多的前十个技能\n",
    "top_skills = skill_count.head(10).index\n",
    "\n",
    "# 过滤原始数据，只保留前十个技能\n",
    "pdf_filtered = pdf[pdf['Skill'].isin(top_skills)]\n",
    "\n",
    "# 聚合数据，根据NAICS2_NAME和Skill进行分组，计算每个组合的技能总数\n",
    "pdf_grouped = pdf_filtered.groupby(['NAICS2_NAME', 'Skill'])['count'].sum().unstack(fill_value=0)\n",
    "\n",
    "# 设置图形大小和分辨率\n",
    "plt.figure(figsize=(19.2, 10.8), dpi=100)  # figsize 为 1920x1080 像素，dpi 为 100\n",
    "\n",
    "# 绘制堆积条形图\n",
    "plt.figure(figsize=(14, 10))\n",
    "pdf_grouped.plot(kind='bar', stacked=True, figsize=(12, 8))\n",
    "\n",
    "# 设置标题和标签\n",
    "plt.title('Stacked Bar Chart: Industry and Skill Distribution', fontsize=16)\n",
    "plt.xlabel('Industry', fontsize=14)\n",
    "plt.ylabel('Skill Count', fontsize=14)\n",
    "\n",
    "# 显示图例\n",
    "plt.legend(title='Skill', bbox_to_anchor=(1.05, 1), loc='upper left')\n",
    "\n",
    "# 调整边距，避免标签重叠\n",
    "plt.subplots_adjust(top=0.9, bottom=0.15)\n",
    "\n",
    "# 保存图像为 PNG 格式\n",
    "plt.savefig('output/Q6.png', bbox_inches='tight')\n",
    "\n",
    "# 显示图形\n",
    "plt.tight_layout()\n",
    "plt.show()\n"
   ]
  },
  {
   "cell_type": "markdown",
   "metadata": {},
   "source": [
    "![Question 6](output/Q6.png)"
   ]
  },
  {
   "cell_type": "markdown",
   "metadata": {},
   "source": [
    "Because there are too many types of skills, the images cannot accommodate all of them, so I selected the top ten for drawing. The graph illustrates the distribution of various skills across different industries, highlighting that \"Professional, Scientific, and Technical Services\" industry has the highest skill count, particularly in \"Data Analysis\" and \"Management\". In contrast, industries like \"Arts, Entertainment, and Recreation\" and \"Utilities\" show lower skill counts across all categories."
   ]
  },
  {
   "cell_type": "markdown",
   "metadata": {},
   "source": [
    "\n",
    "# Salary Analysis by ONET Occupation Type (Bubble Chart)\n",
    "- Analyze how salaries differ across ONET occupation types.\n",
    "- **Aggregate Data**\n",
    "  - Compute **median salary** for each occupation in the **ONET taxonomy**.\n",
    "- **Visualize results**\n",
    "  - Create a **bubble chart** where:\n",
    "    - **X-axis** = `ONET_NAME`\n",
    "    - **Y-axis** = `Median Salary`\n",
    "    - **Size** = Number of job postings\n",
    "  - Apply custom colors and font styles.\n",
    "- **Explanation:** Write two sentences about what the graph reveals."
   ]
  },
  {
   "cell_type": "code",
   "execution_count": null,
   "metadata": {},
   "outputs": [],
   "source": [
    "# Your code for 7th question here\n",
    "from pyspark.sql import functions as F\n",
    "\n",
    "df_aggregated = df.groupBy(\"ONET_NAME\").agg(\n",
    "    F.expr(\"percentile_approx(SALARY_FROM, 0.5)\").alias(\"Median_Salary\"),\n",
    "    F.count(\"ID\").alias(\"Job_Postings\")\n",
    ")\n",
    "df_aggregated_pd = df_aggregated.toPandas()\n",
    "\n",
    "\n",
    "fig = px.scatter(\n",
    "    df_aggregated_pd,\n",
    "    x=\"ONET_NAME\",\n",
    "    y=\"Median_Salary\",\n",
    "    size=\"Job_Postings\",\n",
    "    color=\"ONET_NAME\", \n",
    "    title=\"Salary Analysis by ONET Occupation Type\",\n",
    "    labels={'ONET_NAME': 'ONET Occupation Type', 'Median_Salary': 'Median Salary'},\n",
    "    color_continuous_scale=\"Viridis\",\n",
    ")\n",
    "\n",
    "fig.update_layout(\n",
    "    font=dict(family=\"Arial, sans-serif\", size=14),\n",
    "    showlegend=True,\n",
    "    xaxis_title=\"ONET Occupation Type\",\n",
    "    yaxis_title=\"Median Salary\",\n",
    "    margin=dict(l=50, r=50, t=100, b=50),\n",
    "    title_font_size=20, \n",
    "    title_x=0.2\n",
    ")\n",
    "\n",
    "fig.show()\n",
    "\n",
    "fig.write_image(\"output/Q7.png\", width=960, height=540, scale=2)"
   ]
  },
  {
   "cell_type": "markdown",
   "metadata": {},
   "source": [
    "![Question 7](output/Q7.png)"
   ]
  },
  {
   "cell_type": "markdown",
   "metadata": {},
   "source": [
    "There are only two types of data in ONET_NAME: 'Business Intelligence Analysts' and' null ', so this bubble chart only displays data from' Business Intelligence Analysts', and it shows that the median salary for Business Intelligence Analysts is $88,000. "
   ]
  },
  {
   "cell_type": "markdown",
   "metadata": {},
   "source": [
    "# Career Pathway Trends (Sankey Diagram)\n",
    "- Visualize job transitions between different occupation levels.\n",
    "- **Aggregate Data**\n",
    "  - Identify career transitions between **SOC job classifications**.\n",
    "- **Visualize results**\n",
    "  - Create a **Sankey diagram** where:\n",
    "    - **Source** = `SOC_2021_2_NAME`\n",
    "    - **Target** = `SOC_2021_3_NAME`\n",
    "    - **Value** = Number of transitions\n",
    "  - Apply custom colors and font styles.\n",
    "- **Explanation:** Write two sentences about what the graph reveals."
   ]
  },
  {
   "cell_type": "code",
   "execution_count": null,
   "metadata": {},
   "outputs": [],
   "source": [
    "# Your code for 8th question here\n",
    "import pandas as pd\n",
    "import plotly.graph_objects as go\n",
    "from pyspark.sql import SparkSession\n",
    "from pyspark.sql import functions as F\n",
    "\n",
    "\n",
    "# 步骤 1: 汇总数据\n",
    "# 统计 SOC_2021_2_NAME 和 SOC_2021_3_NAME 之间的转换次数\n",
    "df_transitions = df.groupBy(\"SOC_2021_2_NAME\", \"SOC_2021_3_NAME\").count()\n",
    "\n",
    "# 转换为 Pandas DataFrame\n",
    "df_transitions_pd = df_transitions.toPandas()\n",
    "#如果数据量过大，桑基图可能会变得复杂。可以过滤掉转换次数较少的记录\n",
    "df_transitions_pd = df_transitions_pd[df_transitions_pd[\"count\"] > 10]\n",
    "\n",
    "# 步骤 2: 创建桑基图\n",
    "# 获取唯一的来源和目标节点\n",
    "unique_sources = df_transitions_pd[\"SOC_2021_2_NAME\"].unique()\n",
    "unique_targets = df_transitions_pd[\"SOC_2021_3_NAME\"].unique()\n",
    "\n",
    "# 创建节点列表\n",
    "nodes = list(unique_sources) + list(unique_targets)\n",
    "\n",
    "# 创建节点索引映射\n",
    "node_indices = {node: i for i, node in enumerate(nodes)}\n",
    "\n",
    "# 创建桑基图的链接数据\n",
    "links = {\n",
    "    \"source\": [node_indices[source] for source in df_transitions_pd[\"SOC_2021_2_NAME\"]],\n",
    "    \"target\": [node_indices[target] for target in df_transitions_pd[\"SOC_2021_3_NAME\"]],\n",
    "    \"value\": df_transitions_pd[\"count\"].tolist()\n",
    "}\n",
    "\n",
    "# 步骤 3: 创建桑基图\n",
    "fig = go.Figure(go.Sankey(\n",
    "    node=dict(\n",
    "        pad=15,  # 节点之间的间距\n",
    "        thickness=20,  # 节点厚度\n",
    "        line=dict(color=\"black\", width=0.5),  # 节点边框样式\n",
    "        label=nodes,  # 节点标签\n",
    "        color=\"blue\"  # 节点颜色\n",
    "    ),\n",
    "    link=dict(\n",
    "        source=links[\"source\"],  # 来源节点索引\n",
    "        target=links[\"target\"],  # 目标节点索引\n",
    "        value=links[\"value\"],  # 转换次数\n",
    "        color=\"rgba(0, 128, 0, 0.4)\"  # 链接颜色\n",
    "    )\n",
    "))\n",
    "\n",
    "# 步骤 4: 自定义布局和样式\n",
    "fig.update_layout(\n",
    "    title=\"Career Pathway Trends (Sankey Diagram)\",\n",
    "    font=dict(family=\"Arial\", size=12, color=\"black\"),\n",
    "    plot_bgcolor=\"white\",  # 背景颜色\n",
    "    paper_bgcolor=\"white\",  # 画布颜色\n",
    "    xaxis=dict(showgrid=False),  # 隐藏 X 轴网格\n",
    "    yaxis=dict(showgrid=False),  # 隐藏 Y 轴网格\n",
    "    title_font_size=20, \n",
    "    title_x=0.5\n",
    ")\n",
    "\n",
    "# 显示桑基图\n",
    "fig.show()\n",
    "\n",
    "fig.write_image(\"output/Q8.png\", width=1920, height=540, scale=2)"
   ]
  },
  {
   "cell_type": "markdown",
   "metadata": {},
   "source": [
    "![Question 8](output/Q8.png)"
   ]
  },
  {
   "cell_type": "markdown",
   "metadata": {},
   "source": [
    "There is only one type of data in both \"SOC_2021_2 NAME\" and \"SOC_2021_3 NAME\", so the generated Sankey diagram only has one line connecting Computer and Mathematical Occupations and Mathematical Science Occupations."
   ]
  }
 ],
 "metadata": {
  "kernelspec": {
   "display_name": "env",
   "language": "python",
   "name": "python3"
  },
  "language_info": {
   "codemirror_mode": {
    "name": "ipython",
    "version": 3
   },
   "file_extension": ".py",
   "mimetype": "text/x-python",
   "name": "python",
   "nbconvert_exporter": "python",
   "pygments_lexer": "ipython3",
   "version": "3.12.3"
  }
 },
 "nbformat": 4,
 "nbformat_minor": 2
}
