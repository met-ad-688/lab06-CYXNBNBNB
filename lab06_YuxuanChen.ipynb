{
 "cells": [
  {
   "cell_type": "markdown",
   "metadata": {},
   "source": [
    "---\n",
    "title: \"Module 04: Lab 01\"\n",
    "subtitle: \"Visual Reporting and Storytelling\"\n",
    "author: \"Yuxuan Chen\"\n",
    "number-sections: true\n",
    "date: \"2025-3-20\"\n",
    "date-modified: today\n",
    "date-format: long\n",
    "engine: jupyter\n",
    "categories: [\"visualization\",\"plotly\",\"spark\",\"Visual Reporting\",\"Storytelling with Data\",\"Industry-Specific Visualization\",]\n",
    "execute: \n",
    "  eval: true # 执行代码\n",
    "  echo: true # 输出结果\n",
    "---"
   ]
  },
  {
   "cell_type": "markdown",
   "metadata": {
    "vscode": {
     "languageId": "plaintext"
    }
   },
   "source": [
    "# Objectives {.unnumbered}\n",
    "\n",
    "By the end of this lab, you will:\n",
    "1. Load and analyze the **Lightcast dataset** in **Spark DataFrame**.\n",
    "2. Create **five easy and three medium-complexity visualizations** using **Plotly**.\n",
    "3. Explore **salary distributions, employment trends, and job postings**.\n",
    "4. Analyze **skills in relation to NAICS/SOC/ONET codes and salaries**.\n",
    "5. Customize **colors, fonts, and styles** in all visualizations (**default themes result in a 2.5-point deduction**).\n",
    "6. Follow **best practices for reporting on data communication**."
   ]
  },
  {
   "cell_type": "markdown",
   "metadata": {
    "vscode": {
     "languageId": "plaintext"
    }
   },
   "source": [
    "# Step 1: Load the Dataset {.unnumbered}\n"
   ]
  },
  {
   "cell_type": "code",
   "execution_count": null,
   "metadata": {},
   "outputs": [],
   "source": [
    "import pandas as pd\n",
    "import plotly.express as px\n",
    "import plotly.io as pio\n",
    "pio.renderers.default = \"vscode\"\n",
    "from pyspark.sql import SparkSession\n",
    "from pyspark.sql.functions import col\n",
    "\n",
    "\n",
    "# Initialize Spark Session\n",
    "spark = SparkSession.builder.appName(\"LightcastData\").getOrCreate()\n",
    "\n",
    "# Load Data\n",
    "df = spark.read.option(\"header\", \"true\").option(\"inferSchema\", \"true\").option(\"multiLine\",\"true\").option(\"escape\", \"\\\"\").csv(\"./data/lightcast_job_postings.csv\")\n",
    "\n",
    "# Show Schema and Sample Data\n",
    "df.printSchema()\n",
    "df.show(5)\n"
   ]
  },
  {
   "cell_type": "markdown",
   "metadata": {
    "vscode": {
     "languageId": "plaintext"
    }
   },
   "source": [
    "# Salary Distribution by Employment Type\n",
    "- Identify salary trends across different employment types.\n",
    "- **Filter the dataset**\n",
    "  - Remove records where **salary is missing or zero**.\n",
    "- **Aggregate Data**\n",
    "  - Group by **employment type** and compute salary distribution.\n",
    "- **Visualize results**\n",
    "  - Create a **box plot** where:\n",
    "    - **X-axis** = `EMPLOYMENT_TYPE_NAME`\n",
    "    - **Y-axis** = `SALARY_FROM`\n",
    "  - Customize **colors, fonts, and styles** to avoid a **2.5-point deduction**.\n",
    "- **Explanation:** Write two sentences about what the graph reveals.\n",
    "\n"
   ]
  },
  {
   "cell_type": "code",
   "execution_count": null,
   "metadata": {},
   "outputs": [],
   "source": [
    "# Your Code for 1st question here\n",
    "df = df.filter((col(\"SALARY_FROM\").isNotNull()) & (col(\"SALARY_FROM\") > 0))\n",
    "\n",
    "pdf = df.select(\"EMPLOYMENT_TYPE_NAME\", \"SALARY\").toPandas()\n",
    "pdf.head()\n",
    "\n",
    "fig = px.box(pdf, x=\"EMPLOYMENT_TYPE_NAME\", y=\"SALARY\", title=\"Salary Distribution by Employment Type\", color_discrete_sequence=[\"#36648B\"])\n",
    "fig.update_layout(font_family=\"Arial\", title_font_size=30, title_x=0.5)\n",
    "fig.show()\n",
    "\n",
    "fig.write_image(\"output/Q1.png\", width=1920, height=540, scale=2)"
   ]
  },
  {
   "cell_type": "markdown",
   "metadata": {},
   "source": [
    "![Question 1](output/Q1.png)"
   ]
  },
  {
   "cell_type": "markdown",
   "metadata": {},
   "source": [
    "分析！！"
   ]
  },
  {
   "cell_type": "markdown",
   "metadata": {
    "vscode": {
     "languageId": "plaintext"
    }
   },
   "source": [
    "# Salary Distribution by Industry\n",
    "- Compare salary variations across industries.\n",
    "- **Filter the dataset**\n",
    "  - Keep records where **salary is greater than zero**.\n",
    "- **Aggregate Data**\n",
    "  - Group by **NAICS industry codes**.\n",
    "- **Visualize results**\n",
    "  - Create a **box plot** where:\n",
    "    - **X-axis** = `NAICS2_NAME`\n",
    "    - **Y-axis** = `SALARY_FROM`\n",
    "  - Customize colors, fonts, and styles.\n",
    "- **Explanation:** Write two sentences about what the graph reveals."
   ]
  },
  {
   "cell_type": "code",
   "execution_count": null,
   "metadata": {},
   "outputs": [],
   "source": [
    "# Your code for 2nd question here\n",
    "df = df.filter(col(\"SALARY_FROM\") > 0)\n",
    "\n",
    "pdf = df.select(\"NAICS2_NAME\", \"SALARY_FROM\").toPandas()\n",
    "pdf.head()\n",
    "\n",
    "fig = px.box(\n",
    "    pdf, \n",
    "    x=\"NAICS2_NAME\", \n",
    "    y=\"SALARY_FROM\", \n",
    "    title=\"Salary Distribution by Employment Type\", \n",
    "    color_discrete_sequence=[\"#36648B\"]\n",
    ")\n",
    "\n",
    "fig.update_layout(\n",
    "    font_family=\"Arial\",\n",
    "    title_font_size=30,                # 标题字体大小\n",
    "    title_x=0.5,                       # 标题居中\n",
    "    width=1400,                        # 增大宽度\n",
    "    height=800,                        # 增大高度\n",
    "    xaxis_title=\"Employment Type\",     # X轴标签\n",
    "    yaxis_title=\"Salary From ($)\",     # Y轴标签\n",
    "    xaxis=dict(\n",
    "        tickangle=45,                  # X轴标签旋转角度\n",
    "        showgrid=True,                 # 显示网格线\n",
    "        gridcolor=\"rgba(211, 211, 211, 0.3)\"  # 网格线颜色\n",
    "    ),\n",
    "    yaxis=dict(\n",
    "        showgrid=True,\n",
    "        gridcolor=\"rgba(211, 211, 211, 0.3)\"\n",
    "    ),\n",
    "    legend=dict(\n",
    "        title=\"Employment Type\",\n",
    "        font=dict(family=\"Arial\", size=14, color=\"black\"),\n",
    "        bgcolor=\"rgba(255, 255, 255, 0.8)\",     # 图例背景色\n",
    "        bordercolor=\"rgba(0, 0, 0, 0.1)\",        # 图例边框\n",
    "        borderwidth=1\n",
    "    )\n",
    ")\n",
    "\n",
    "# 优化箱线图样式\n",
    "fig.update_traces(\n",
    "    marker=dict(opacity=0.7, line=dict(width=1.5)),   # 数据点透明度和边框线宽\n",
    "    boxmean=True,                                     # 显示均值线\n",
    "    jitter=0.3,                                       # 数据点抖动效果\n",
    "    line=dict(width=2)                                # 箱线图边框线宽度\n",
    ")\n",
    "\n",
    "fig.show()\n",
    "\n",
    "fig.write_image(\"output/Q2.png\", width=1920, height=1080, scale=2)"
   ]
  },
  {
   "cell_type": "markdown",
   "metadata": {},
   "source": [
    "![Question 2](output/Q2.png)"
   ]
  },
  {
   "cell_type": "markdown",
   "metadata": {},
   "source": [
    "分析！！"
   ]
  },
  {
   "cell_type": "markdown",
   "metadata": {},
   "source": [
    "# Job Posting Trends Over Time\n",
    "- Analyze how job postings fluctuate over time.\n",
    "- **Aggregate Data**\n",
    "  - Count job postings per **posted date (`POSTED`)**.\n",
    "- **Visualize results**\n",
    "  - Create a **line chart** where:\n",
    "    - **X-axis** = `POSTED`\n",
    "    - **Y-axis** = `Number of Job Postings`\n",
    "  - Apply custom colors and font styles.\n",
    "- **Explanation:** Write two sentences about what the graph reveals."
   ]
  },
  {
   "cell_type": "code",
   "execution_count": null,
   "metadata": {},
   "outputs": [],
   "source": [
    "# Your code for 3rd question here\n",
    "df_aggregated = df.groupBy(\"POSTED\").count()\n",
    "pdf = df_aggregated.toPandas()\n",
    "\n",
    "fig = px.line(pdf, x=\"POSTED\", y=\"count\", title=\"Job Postings Over Time\", line_shape=\"linear\",\n",
    "              color_discrete_sequence=[\"#36648B\"])\n",
    "\n",
    "fig.update_layout(\n",
    "    font_family=\"Arial\",\n",
    "    title_font_size=24,\n",
    "    xaxis_title=\"Posted Date\",\n",
    "    yaxis_title=\"Number of Job Postings\",\n",
    "    title_x=0.5\n",
    ")\n",
    "\n",
    "fig.show()\n",
    "\n",
    "fig.write_image(\"output/Q3.png\", width=1920, height=540, scale=2)"
   ]
  },
  {
   "cell_type": "markdown",
   "metadata": {},
   "source": [
    "![Question 3](output/Q3.png)"
   ]
  },
  {
   "cell_type": "markdown",
   "metadata": {},
   "source": [
    "分析！！"
   ]
  },
  {
   "cell_type": "markdown",
   "metadata": {},
   "source": [
    "# Top 10 Job Titles by Count\n",
    "- Identify the most frequently posted job titles.\n",
    "- **Aggregate Data**\n",
    "  - Count the occurrences of each **job title (`TITLE_NAME`)**.\n",
    "  - Select the **top 10 most frequent titles**.\n",
    "- **Visualize results**\n",
    "  - Create a **bar chart** where:\n",
    "    - **X-axis** = `TITLE_NAME`\n",
    "    - **Y-axis** = `Job Count`\n",
    "  - Apply custom colors and font styles.\n",
    "- **Explanation:** Write two sentences about what the graph reveals."
   ]
  },
  {
   "cell_type": "code",
   "execution_count": null,
   "metadata": {},
   "outputs": [],
   "source": [
    "# Your code for 4th question here\n",
    "df_aggregated = df.groupBy(\"TITLE_NAME\").count()\n",
    "df_top_10 = df_aggregated.orderBy(col(\"count\").desc()).limit(10)\n",
    "pdf = df_top_10.toPandas()\n",
    "\n",
    "fig = px.bar(pdf, x=\"TITLE_NAME\", y=\"count\", title=\"Top 10 Most Frequently Posted Job Titles\", \n",
    "             color=\"count\", color_continuous_scale=\"Blues\")\n",
    "\n",
    "fig.update_layout(\n",
    "    font_family=\"Arial\",\n",
    "    title_font_size=24,\n",
    "    xaxis_title=\"Job Title\",\n",
    "    yaxis_title=\"Job Count\",\n",
    "    title_x=0.5\n",
    ")\n",
    "\n",
    "fig.show()\n",
    "\n",
    "fig.write_image(\"output/Q4.png\", width=1920, height=640, scale=2)"
   ]
  },
  {
   "cell_type": "markdown",
   "metadata": {},
   "source": [
    "![Question 4](output/Q4.png)"
   ]
  },
  {
   "cell_type": "markdown",
   "metadata": {},
   "source": [
    "分析！！！"
   ]
  },
  {
   "cell_type": "markdown",
   "metadata": {},
   "source": [
    "# Remote vs On-Site Job Postings\n",
    "- Compare the proportion of remote and on-site job postings.\n",
    "- **Aggregate Data**\n",
    "  - Count job postings by **remote type (`REMOTE_TYPE_NAME`)**.\n",
    "- **Visualize results**\n",
    "  - Create a **pie chart** where:\n",
    "    - **Labels** = `REMOTE_TYPE_NAME`\n",
    "    - **Values** = `Job Count`\n",
    "  - Apply custom colors and font styles.\n",
    "- **Explanation:** Write two sentences about what the graph reveals."
   ]
  },
  {
   "cell_type": "code",
   "execution_count": null,
   "metadata": {},
   "outputs": [],
   "source": [
    "# Your code for 5th question here\n",
    "df_aggregated = df.groupBy(\"REMOTE_TYPE_NAME\").count()\n",
    "pdf = df_aggregated.toPandas()\n",
    "\n",
    "fig = px.pie(pdf, names=\"REMOTE_TYPE_NAME\", values=\"count\", title=\"Proportion of Remote vs On-site Job Postings\",\n",
    "             color=\"REMOTE_TYPE_NAME\", color_discrete_map={\"Remote\": \"#00A3E0\", \"On-site\": \"#FF6F61\"})\n",
    "\n",
    "fig.update_layout(\n",
    "    font_family=\"Arial\",\n",
    "    title_font_size=24,\n",
    "    title_x=0.5\n",
    ")\n",
    "\n",
    "fig.show()\n",
    "\n",
    "fig.write_image(\"output/Q5.png\", width=960, height=540, scale=2)"
   ]
  },
  {
   "cell_type": "markdown",
   "metadata": {},
   "source": [
    "![Question 5](output/Q5.png)"
   ]
  },
  {
   "cell_type": "markdown",
   "metadata": {},
   "source": [
    "分析！！"
   ]
  },
  {
   "cell_type": "markdown",
   "metadata": {},
   "source": [
    "# Skill Demand Analysis by Industry (Stacked Bar Chart)\n",
    "- Identify which skills are most in demand in various industries.\n",
    "- **Aggregate Data**\n",
    "  - Extract **skills** from job postings.\n",
    "  - Count occurrences of skills grouped by **NAICS industry codes**.\n",
    "- **Visualize results**\n",
    "  - Create a **stacked bar chart** where:\n",
    "    - **X-axis** = `Industry`\n",
    "    - **Y-axis** = `Skill Count`\n",
    "    - **Color** = `Skill`\n",
    "  - Apply custom colors and font styles.\n",
    "- **Explanation:** Write two sentences about what the graph reveals."
   ]
  },
  {
   "cell_type": "code",
   "execution_count": null,
   "metadata": {},
   "outputs": [],
   "source": [
    "# Your code for 6th question here\n",
    "\n",
    "\n",
    "#fig.write_image(\"output/Q6.png\", width=1920, height=1080, scale=2)"
   ]
  },
  {
   "cell_type": "markdown",
   "metadata": {},
   "source": [
    "![Question 6](output/Q6.png)"
   ]
  },
  {
   "cell_type": "markdown",
   "metadata": {},
   "source": [
    "分析！！"
   ]
  },
  {
   "cell_type": "markdown",
   "metadata": {},
   "source": [
    "\n",
    "# Salary Analysis by ONET Occupation Type (Bubble Chart)\n",
    "- Analyze how salaries differ across ONET occupation types.\n",
    "- **Aggregate Data**\n",
    "  - Compute **median salary** for each occupation in the **ONET taxonomy**.\n",
    "- **Visualize results**\n",
    "  - Create a **bubble chart** where:\n",
    "    - **X-axis** = `ONET_NAME`\n",
    "    - **Y-axis** = `Median Salary`\n",
    "    - **Size** = Number of job postings\n",
    "  - Apply custom colors and font styles.\n",
    "- **Explanation:** Write two sentences about what the graph reveals."
   ]
  },
  {
   "cell_type": "code",
   "execution_count": null,
   "metadata": {},
   "outputs": [],
   "source": [
    "# Your code for 7th question here"
   ]
  },
  {
   "cell_type": "markdown",
   "metadata": {},
   "source": [
    "# Career Pathway Trends (Sankey Diagram)\n",
    "- Visualize job transitions between different occupation levels.\n",
    "- **Aggregate Data**\n",
    "  - Identify career transitions between **SOC job classifications**.\n",
    "- **Visualize results**\n",
    "  - Create a **Sankey diagram** where:\n",
    "    - **Source** = `SOC_2021_2_NAME`\n",
    "    - **Target** = `SOC_2021_3_NAME`\n",
    "    - **Value** = Number of transitions\n",
    "  - Apply custom colors and font styles.\n",
    "- **Explanation:** Write two sentences about what the graph reveals."
   ]
  },
  {
   "cell_type": "code",
   "execution_count": null,
   "metadata": {},
   "outputs": [],
   "source": [
    "# Your code for 8th question here"
   ]
  }
 ],
 "metadata": {
  "kernelspec": {
   "display_name": "env",
   "language": "python",
   "name": "python3"
  },
  "language_info": {
   "codemirror_mode": {
    "name": "ipython",
    "version": 3
   },
   "file_extension": ".py",
   "mimetype": "text/x-python",
   "name": "python",
   "nbconvert_exporter": "python",
   "pygments_lexer": "ipython3",
   "version": "3.12.3"
  }
 },
 "nbformat": 4,
 "nbformat_minor": 2
}
