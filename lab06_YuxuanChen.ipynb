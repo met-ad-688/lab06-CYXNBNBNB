{
 "cells": [
  {
   "cell_type": "raw",
   "metadata": {
    "vscode": {
     "languageId": "raw"
    }
   },
   "source": [
    "---\n",
    "title: \"Module 04: Lab 01\"\n",
    "subtitle: \"Visual Reporting and Storytelling\"\n",
    "author: \"Yuxuan Chen\"\n",
    "number-sections: true\n",
    "date: \"2025-3-18\"\n",
    "date-modified: today\n",
    "date-format: long\n",
    "engine: jupyter\n",
    "categories: [\"visualization\",\"plotly\",\"spark\",\"Visual Reporting\",\"Storytelling with Data\",\"Industry-Specific Visualization\",]\n",
    "execute: \n",
    "  eval: true\n",
    "  echo: true\n",
    "---"
   ]
  },
  {
   "cell_type": "markdown",
   "metadata": {
    "vscode": {
     "languageId": "plaintext"
    }
   },
   "source": [
    "# Objectives {.unnumbered}\n",
    "\n",
    "By the end of this lab, you will:\n",
    "1. Load and analyze the **Lightcast dataset** in **Spark DataFrame**.\n",
    "2. Create **five easy and three medium-complexity visualizations** using **Plotly**.\n",
    "3. Explore **salary distributions, employment trends, and job postings**.\n",
    "4. Analyze **skills in relation to NAICS/SOC/ONET codes and salaries**.\n",
    "5. Customize **colors, fonts, and styles** in all visualizations (**default themes result in a 2.5-point deduction**).\n",
    "6. Follow **best practices for reporting on data communication**."
   ]
  },
  {
   "cell_type": "markdown",
   "metadata": {
    "vscode": {
     "languageId": "plaintext"
    }
   },
   "source": [
    "# Step 1: Load the Dataset {.unnumbered}\n"
   ]
  },
  {
   "cell_type": "code",
   "execution_count": 3,
   "metadata": {},
   "outputs": [
    {
     "name": "stderr",
     "output_type": "stream",
     "text": [
      "your 131072x1 screen size is bogus. expect trouble\n"
     ]
    },
    {
     "name": "stdout",
     "output_type": "stream",
     "text": [
      "25/03/18 20:06:15 WARN Utils: Your hostname, DESKTOP-AEE21PF resolves to a loopback address: 127.0.1.1; using 192.168.167.208 instead (on interface eth0)\n",
      "25/03/18 20:06:15 WARN Utils: Set SPARK_LOCAL_IP if you need to bind to another address\n"
     ]
    },
    {
     "name": "stderr",
     "output_type": "stream",
     "text": [
      "Setting default log level to \"WARN\".\n",
      "To adjust logging level use sc.setLogLevel(newLevel). For SparkR, use setLogLevel(newLevel).\n"
     ]
    },
    {
     "name": "stdout",
     "output_type": "stream",
     "text": [
      "25/03/18 20:06:16 WARN NativeCodeLoader: Unable to load native-hadoop library for your platform... using builtin-java classes where applicable\n"
     ]
    },
    {
     "name": "stderr",
     "output_type": "stream",
     "text": [
      "                                                                                \r"
     ]
    },
    {
     "name": "stdout",
     "output_type": "stream",
     "text": [
      "root\n",
      " |-- ID: string (nullable = true)\n",
      " |-- LAST_UPDATED_DATE: string (nullable = true)\n",
      " |-- LAST_UPDATED_TIMESTAMP: timestamp (nullable = true)\n",
      " |-- DUPLICATES: integer (nullable = true)\n",
      " |-- POSTED: string (nullable = true)\n",
      " |-- EXPIRED: string (nullable = true)\n",
      " |-- DURATION: integer (nullable = true)\n",
      " |-- SOURCE_TYPES: string (nullable = true)\n",
      " |-- SOURCES: string (nullable = true)\n",
      " |-- URL: string (nullable = true)\n",
      " |-- ACTIVE_URLS: string (nullable = true)\n",
      " |-- ACTIVE_SOURCES_INFO: string (nullable = true)\n",
      " |-- TITLE_RAW: string (nullable = true)\n",
      " |-- BODY: string (nullable = true)\n",
      " |-- MODELED_EXPIRED: string (nullable = true)\n",
      " |-- MODELED_DURATION: integer (nullable = true)\n",
      " |-- COMPANY: integer (nullable = true)\n",
      " |-- COMPANY_NAME: string (nullable = true)\n",
      " |-- COMPANY_RAW: string (nullable = true)\n",
      " |-- COMPANY_IS_STAFFING: boolean (nullable = true)\n",
      " |-- EDUCATION_LEVELS: string (nullable = true)\n",
      " |-- EDUCATION_LEVELS_NAME: string (nullable = true)\n",
      " |-- MIN_EDULEVELS: integer (nullable = true)\n",
      " |-- MIN_EDULEVELS_NAME: string (nullable = true)\n",
      " |-- MAX_EDULEVELS: integer (nullable = true)\n",
      " |-- MAX_EDULEVELS_NAME: string (nullable = true)\n",
      " |-- EMPLOYMENT_TYPE: integer (nullable = true)\n",
      " |-- EMPLOYMENT_TYPE_NAME: string (nullable = true)\n",
      " |-- MIN_YEARS_EXPERIENCE: integer (nullable = true)\n",
      " |-- MAX_YEARS_EXPERIENCE: integer (nullable = true)\n",
      " |-- IS_INTERNSHIP: boolean (nullable = true)\n",
      " |-- SALARY: integer (nullable = true)\n",
      " |-- REMOTE_TYPE: integer (nullable = true)\n",
      " |-- REMOTE_TYPE_NAME: string (nullable = true)\n",
      " |-- ORIGINAL_PAY_PERIOD: string (nullable = true)\n",
      " |-- SALARY_TO: integer (nullable = true)\n",
      " |-- SALARY_FROM: integer (nullable = true)\n",
      " |-- LOCATION: string (nullable = true)\n",
      " |-- CITY: string (nullable = true)\n",
      " |-- CITY_NAME: string (nullable = true)\n",
      " |-- COUNTY: integer (nullable = true)\n",
      " |-- COUNTY_NAME: string (nullable = true)\n",
      " |-- MSA: integer (nullable = true)\n",
      " |-- MSA_NAME: string (nullable = true)\n",
      " |-- STATE: integer (nullable = true)\n",
      " |-- STATE_NAME: string (nullable = true)\n",
      " |-- COUNTY_OUTGOING: integer (nullable = true)\n",
      " |-- COUNTY_NAME_OUTGOING: string (nullable = true)\n",
      " |-- COUNTY_INCOMING: integer (nullable = true)\n",
      " |-- COUNTY_NAME_INCOMING: string (nullable = true)\n",
      " |-- MSA_OUTGOING: integer (nullable = true)\n",
      " |-- MSA_NAME_OUTGOING: string (nullable = true)\n",
      " |-- MSA_INCOMING: integer (nullable = true)\n",
      " |-- MSA_NAME_INCOMING: string (nullable = true)\n",
      " |-- NAICS2: integer (nullable = true)\n",
      " |-- NAICS2_NAME: string (nullable = true)\n",
      " |-- NAICS3: integer (nullable = true)\n",
      " |-- NAICS3_NAME: string (nullable = true)\n",
      " |-- NAICS4: integer (nullable = true)\n",
      " |-- NAICS4_NAME: string (nullable = true)\n",
      " |-- NAICS5: integer (nullable = true)\n",
      " |-- NAICS5_NAME: string (nullable = true)\n",
      " |-- NAICS6: integer (nullable = true)\n",
      " |-- NAICS6_NAME: string (nullable = true)\n",
      " |-- TITLE: string (nullable = true)\n",
      " |-- TITLE_NAME: string (nullable = true)\n",
      " |-- TITLE_CLEAN: string (nullable = true)\n",
      " |-- SKILLS: string (nullable = true)\n",
      " |-- SKILLS_NAME: string (nullable = true)\n",
      " |-- SPECIALIZED_SKILLS: string (nullable = true)\n",
      " |-- SPECIALIZED_SKILLS_NAME: string (nullable = true)\n",
      " |-- CERTIFICATIONS: string (nullable = true)\n",
      " |-- CERTIFICATIONS_NAME: string (nullable = true)\n",
      " |-- COMMON_SKILLS: string (nullable = true)\n",
      " |-- COMMON_SKILLS_NAME: string (nullable = true)\n",
      " |-- SOFTWARE_SKILLS: string (nullable = true)\n",
      " |-- SOFTWARE_SKILLS_NAME: string (nullable = true)\n",
      " |-- ONET: string (nullable = true)\n",
      " |-- ONET_NAME: string (nullable = true)\n",
      " |-- ONET_2019: string (nullable = true)\n",
      " |-- ONET_2019_NAME: string (nullable = true)\n",
      " |-- CIP6: string (nullable = true)\n",
      " |-- CIP6_NAME: string (nullable = true)\n",
      " |-- CIP4: string (nullable = true)\n",
      " |-- CIP4_NAME: string (nullable = true)\n",
      " |-- CIP2: string (nullable = true)\n",
      " |-- CIP2_NAME: string (nullable = true)\n",
      " |-- SOC_2021_2: string (nullable = true)\n",
      " |-- SOC_2021_2_NAME: string (nullable = true)\n",
      " |-- SOC_2021_3: string (nullable = true)\n",
      " |-- SOC_2021_3_NAME: string (nullable = true)\n",
      " |-- SOC_2021_4: string (nullable = true)\n",
      " |-- SOC_2021_4_NAME: string (nullable = true)\n",
      " |-- SOC_2021_5: string (nullable = true)\n",
      " |-- SOC_2021_5_NAME: string (nullable = true)\n",
      " |-- LOT_CAREER_AREA: integer (nullable = true)\n",
      " |-- LOT_CAREER_AREA_NAME: string (nullable = true)\n",
      " |-- LOT_OCCUPATION: integer (nullable = true)\n",
      " |-- LOT_OCCUPATION_NAME: string (nullable = true)\n",
      " |-- LOT_SPECIALIZED_OCCUPATION: integer (nullable = true)\n",
      " |-- LOT_SPECIALIZED_OCCUPATION_NAME: string (nullable = true)\n",
      " |-- LOT_OCCUPATION_GROUP: integer (nullable = true)\n",
      " |-- LOT_OCCUPATION_GROUP_NAME: string (nullable = true)\n",
      " |-- LOT_V6_SPECIALIZED_OCCUPATION: integer (nullable = true)\n",
      " |-- LOT_V6_SPECIALIZED_OCCUPATION_NAME: string (nullable = true)\n",
      " |-- LOT_V6_OCCUPATION: integer (nullable = true)\n",
      " |-- LOT_V6_OCCUPATION_NAME: string (nullable = true)\n",
      " |-- LOT_V6_OCCUPATION_GROUP: integer (nullable = true)\n",
      " |-- LOT_V6_OCCUPATION_GROUP_NAME: string (nullable = true)\n",
      " |-- LOT_V6_CAREER_AREA: integer (nullable = true)\n",
      " |-- LOT_V6_CAREER_AREA_NAME: string (nullable = true)\n",
      " |-- SOC_2: string (nullable = true)\n",
      " |-- SOC_2_NAME: string (nullable = true)\n",
      " |-- SOC_3: string (nullable = true)\n",
      " |-- SOC_3_NAME: string (nullable = true)\n",
      " |-- SOC_4: string (nullable = true)\n",
      " |-- SOC_4_NAME: string (nullable = true)\n",
      " |-- SOC_5: string (nullable = true)\n",
      " |-- SOC_5_NAME: string (nullable = true)\n",
      " |-- LIGHTCAST_SECTORS: string (nullable = true)\n",
      " |-- LIGHTCAST_SECTORS_NAME: string (nullable = true)\n",
      " |-- NAICS_2022_2: integer (nullable = true)\n",
      " |-- NAICS_2022_2_NAME: string (nullable = true)\n",
      " |-- NAICS_2022_3: integer (nullable = true)\n",
      " |-- NAICS_2022_3_NAME: string (nullable = true)\n",
      " |-- NAICS_2022_4: integer (nullable = true)\n",
      " |-- NAICS_2022_4_NAME: string (nullable = true)\n",
      " |-- NAICS_2022_5: integer (nullable = true)\n",
      " |-- NAICS_2022_5_NAME: string (nullable = true)\n",
      " |-- NAICS_2022_6: integer (nullable = true)\n",
      " |-- NAICS_2022_6_NAME: string (nullable = true)\n",
      "\n",
      "25/03/18 20:06:22 WARN package: Truncated the string representation of a plan since it was too large. This behavior can be adjusted by setting 'spark.sql.debug.maxToStringFields'.\n",
      "+--------------------+-----------------+----------------------+----------+--------+---------+--------+--------------------+--------------------+--------------------+-----------+-------------------+--------------------+--------------------+---------------+----------------+--------+--------------------+-----------+-------------------+----------------+---------------------+-------------+-------------------+-------------+------------------+---------------+--------------------+--------------------+--------------------+-------------+------+-----------+----------------+-------------------+---------+-----------+--------------------+--------------------+-------------+------+--------------+-----+--------------------+-----+----------+---------------+--------------------+---------------+--------------------+------------+--------------------+------------+--------------------+------+--------------------+------+--------------------+------+--------------------+------+--------------------+------+--------------------+------------------+-------------------+--------------------+--------------------+--------------------+--------------------+-----------------------+--------------------+--------------------+--------------------+--------------------+--------------------+--------------------+----------+--------------------+----------+--------------------+--------------------+--------------------+--------------------+--------------------+--------------------+--------------------+----------+--------------------+----------+--------------------+----------+---------------+----------+---------------+---------------+--------------------+--------------+--------------------+--------------------------+-------------------------------+--------------------+-------------------------+-----------------------------+----------------------------------+-----------------+----------------------+-----------------------+----------------------------+------------------+-----------------------+-------+--------------------+-------+--------------------+-------+---------------+-------+---------------+-----------------+----------------------+------------+--------------------+------------+--------------------+------------+--------------------+------------+--------------------+------------+--------------------+\n",
      "|                  ID|LAST_UPDATED_DATE|LAST_UPDATED_TIMESTAMP|DUPLICATES|  POSTED|  EXPIRED|DURATION|        SOURCE_TYPES|             SOURCES|                 URL|ACTIVE_URLS|ACTIVE_SOURCES_INFO|           TITLE_RAW|                BODY|MODELED_EXPIRED|MODELED_DURATION| COMPANY|        COMPANY_NAME|COMPANY_RAW|COMPANY_IS_STAFFING|EDUCATION_LEVELS|EDUCATION_LEVELS_NAME|MIN_EDULEVELS| MIN_EDULEVELS_NAME|MAX_EDULEVELS|MAX_EDULEVELS_NAME|EMPLOYMENT_TYPE|EMPLOYMENT_TYPE_NAME|MIN_YEARS_EXPERIENCE|MAX_YEARS_EXPERIENCE|IS_INTERNSHIP|SALARY|REMOTE_TYPE|REMOTE_TYPE_NAME|ORIGINAL_PAY_PERIOD|SALARY_TO|SALARY_FROM|            LOCATION|                CITY|    CITY_NAME|COUNTY|   COUNTY_NAME|  MSA|            MSA_NAME|STATE|STATE_NAME|COUNTY_OUTGOING|COUNTY_NAME_OUTGOING|COUNTY_INCOMING|COUNTY_NAME_INCOMING|MSA_OUTGOING|   MSA_NAME_OUTGOING|MSA_INCOMING|   MSA_NAME_INCOMING|NAICS2|         NAICS2_NAME|NAICS3|         NAICS3_NAME|NAICS4|         NAICS4_NAME|NAICS5|         NAICS5_NAME|NAICS6|         NAICS6_NAME|             TITLE|         TITLE_NAME|         TITLE_CLEAN|              SKILLS|         SKILLS_NAME|  SPECIALIZED_SKILLS|SPECIALIZED_SKILLS_NAME|      CERTIFICATIONS| CERTIFICATIONS_NAME|       COMMON_SKILLS|  COMMON_SKILLS_NAME|     SOFTWARE_SKILLS|SOFTWARE_SKILLS_NAME|      ONET|           ONET_NAME| ONET_2019|      ONET_2019_NAME|                CIP6|           CIP6_NAME|                CIP4|           CIP4_NAME|                CIP2|           CIP2_NAME|SOC_2021_2|     SOC_2021_2_NAME|SOC_2021_3|     SOC_2021_3_NAME|SOC_2021_4|SOC_2021_4_NAME|SOC_2021_5|SOC_2021_5_NAME|LOT_CAREER_AREA|LOT_CAREER_AREA_NAME|LOT_OCCUPATION| LOT_OCCUPATION_NAME|LOT_SPECIALIZED_OCCUPATION|LOT_SPECIALIZED_OCCUPATION_NAME|LOT_OCCUPATION_GROUP|LOT_OCCUPATION_GROUP_NAME|LOT_V6_SPECIALIZED_OCCUPATION|LOT_V6_SPECIALIZED_OCCUPATION_NAME|LOT_V6_OCCUPATION|LOT_V6_OCCUPATION_NAME|LOT_V6_OCCUPATION_GROUP|LOT_V6_OCCUPATION_GROUP_NAME|LOT_V6_CAREER_AREA|LOT_V6_CAREER_AREA_NAME|  SOC_2|          SOC_2_NAME|  SOC_3|          SOC_3_NAME|  SOC_4|     SOC_4_NAME|  SOC_5|     SOC_5_NAME|LIGHTCAST_SECTORS|LIGHTCAST_SECTORS_NAME|NAICS_2022_2|   NAICS_2022_2_NAME|NAICS_2022_3|   NAICS_2022_3_NAME|NAICS_2022_4|   NAICS_2022_4_NAME|NAICS_2022_5|   NAICS_2022_5_NAME|NAICS_2022_6|   NAICS_2022_6_NAME|\n",
      "+--------------------+-----------------+----------------------+----------+--------+---------+--------+--------------------+--------------------+--------------------+-----------+-------------------+--------------------+--------------------+---------------+----------------+--------+--------------------+-----------+-------------------+----------------+---------------------+-------------+-------------------+-------------+------------------+---------------+--------------------+--------------------+--------------------+-------------+------+-----------+----------------+-------------------+---------+-----------+--------------------+--------------------+-------------+------+--------------+-----+--------------------+-----+----------+---------------+--------------------+---------------+--------------------+------------+--------------------+------------+--------------------+------+--------------------+------+--------------------+------+--------------------+------+--------------------+------+--------------------+------------------+-------------------+--------------------+--------------------+--------------------+--------------------+-----------------------+--------------------+--------------------+--------------------+--------------------+--------------------+--------------------+----------+--------------------+----------+--------------------+--------------------+--------------------+--------------------+--------------------+--------------------+--------------------+----------+--------------------+----------+--------------------+----------+---------------+----------+---------------+---------------+--------------------+--------------+--------------------+--------------------------+-------------------------------+--------------------+-------------------------+-----------------------------+----------------------------------+-----------------+----------------------+-----------------------+----------------------------+------------------+-----------------------+-------+--------------------+-------+--------------------+-------+---------------+-------+---------------+-----------------+----------------------+------------+--------------------+------------+--------------------+------------+--------------------+------------+--------------------+------------+--------------------+\n",
      "|1f57d95acf4dc67ed...|         9/6/2024|  2024-09-06 16:32:...|         0|6/2/2024| 6/8/2024|       6|   [\\n  \"Company\"\\n]|[\\n  \"brassring.c...|[\\n  \"https://sjo...|         []|               null|Enterprise Analys...|31-May-2024\\n\\nEn...|       6/8/2024|               6|  894731|          Murphy USA| Murphy USA|              false|       [\\n  2\\n]| [\\n  \"Bachelor's ...|            2|  Bachelor's degree|         null|              null|              1|Full-time (> 32 h...|                   2|                   2|        false|  null|          0|          [None]|               null|     null|       null|{\\n  \"lat\": 33.20...|RWwgRG9yYWRvLCBBUg==|El Dorado, AR|  5139|     Union, AR|20980|       El Dorado, AR|    5|  Arkansas|           5139|           Union, AR|           5139|           Union, AR|       20980|       El Dorado, AR|       20980|       El Dorado, AR|    44|        Retail Trade|   441|Motor Vehicle and...|  4413|Automotive Parts,...| 44133|Automotive Parts ...|441330|Automotive Parts ...|ET29C073C03D1F86B4|Enterprise Analysts|enterprise analys...|[\\n  \"KS126DB6T06...|[\\n  \"Merchandisi...|[\\n  \"KS126DB6T06...|   [\\n  \"Merchandisi...|                  []|                  []|[\\n  \"KS126706DPF...|[\\n  \"Mathematics...|[\\n  \"KS440W865GC...|[\\n  \"SQL (Progra...|15-2051.01|Business Intellig...|15-2051.01|Business Intellig...|[\\n  \"45.0601\",\\n...|[\\n  \"Economics, ...|[\\n  \"45.06\",\\n  ...|[\\n  \"Economics\",...|[\\n  \"45\",\\n  \"27...|[\\n  \"Social Scie...|   15-0000|Computer and Math...|   15-2000|Mathematical Scie...|   15-2050|Data Scientists|   15-2051|Data Scientists|             23|Information Techn...|        231010|Business Intellig...|                  23101011|           General ERP Analy...|                2310|     Business Intellig...|                     23101011|              General ERP Analy...|           231010|  Business Intellig...|                   2310|        Business Intellig...|                23|   Information Techn...|15-0000|Computer and Math...|15-2000|Mathematical Scie...|15-2050|Data Scientists|15-2051|Data Scientists|        [\\n  7\\n]|  [\\n  \"Artificial ...|          44|        Retail Trade|         441|Motor Vehicle and...|        4413|Automotive Parts,...|       44133|Automotive Parts ...|      441330|Automotive Parts ...|\n",
      "|0cb072af26757b6c4...|         8/2/2024|  2024-08-02 13:08:...|         0|6/2/2024| 8/1/2024|    null| [\\n  \"Job Board\"\\n]| [\\n  \"maine.gov\"\\n]|[\\n  \"https://job...|         []|               null|Oracle Consultant...|Oracle Consultant...|       8/1/2024|            null|  133098|Smx Corporation L...|        SMX|               true|      [\\n  99\\n]| [\\n  \"No Educatio...|           99|No Education Listed|         null|              null|              1|Full-time (> 32 h...|                   3|                   3|        false|  null|          1|          Remote|               null|     null|       null|{\\n  \"lat\": 44.31...|    QXVndXN0YSwgTUU=|  Augusta, ME| 23011|  Kennebec, ME|12300|Augusta-Watervill...|   23|     Maine|          23011|        Kennebec, ME|          23011|        Kennebec, ME|       12300|Augusta-Watervill...|       12300|Augusta-Watervill...|    56|Administrative an...|   561|Administrative an...|  5613| Employment Services| 56132|Temporary Help Se...|561320|Temporary Help Se...|ET21DDA63780A7DC09| Oracle Consultants|oracle consultant...|[\\n  \"KS122626T55...|[\\n  \"Procurement...|[\\n  \"KS122626T55...|   [\\n  \"Procurement...|                  []|                  []|                  []|                  []|[\\n  \"BGSBF3F508F...|[\\n  \"Oracle Busi...|15-2051.01|Business Intellig...|15-2051.01|Business Intellig...|                  []|                  []|                  []|                  []|                  []|                  []|   15-0000|Computer and Math...|   15-2000|Mathematical Scie...|   15-2050|Data Scientists|   15-2051|Data Scientists|             23|Information Techn...|        231010|Business Intellig...|                  23101012|           Oracle Consultant...|                2310|     Business Intellig...|                     23101012|              Oracle Consultant...|           231010|  Business Intellig...|                   2310|        Business Intellig...|                23|   Information Techn...|15-0000|Computer and Math...|15-2000|Mathematical Scie...|15-2050|Data Scientists|15-2051|Data Scientists|             null|                  null|          56|Administrative an...|         561|Administrative an...|        5613| Employment Services|       56132|Temporary Help Se...|      561320|Temporary Help Se...|\n",
      "|85318b12b3331fa49...|         9/6/2024|  2024-09-06 16:32:...|         1|6/2/2024| 7/7/2024|      35| [\\n  \"Job Board\"\\n]|[\\n  \"dejobs.org\"\\n]|[\\n  \"https://dej...|         []|               null|        Data Analyst|Taking care of pe...|      6/10/2024|               8|39063746|            Sedgwick|   Sedgwick|              false|       [\\n  2\\n]| [\\n  \"Bachelor's ...|            2|  Bachelor's degree|         null|              null|              1|Full-time (> 32 h...|                   5|                null|        false|  null|          0|          [None]|               null|     null|       null|{\\n  \"lat\": 32.77...|    RGFsbGFzLCBUWA==|   Dallas, TX| 48113|    Dallas, TX|19100|Dallas-Fort Worth...|   48|     Texas|          48113|          Dallas, TX|          48113|          Dallas, TX|       19100|Dallas-Fort Worth...|       19100|Dallas-Fort Worth...|    52|Finance and Insur...|   524|Insurance Carrier...|  5242|Agencies, Brokera...| 52429|Other Insurance R...|524291|    Claims Adjusting|ET3037E0C947A02404|      Data Analysts|        data analyst|[\\n  \"KS1218W78FG...|[\\n  \"Management\"...|[\\n  \"ESF3939CE1F...|   [\\n  \"Exception R...|[\\n  \"KS683TN76T7...|[\\n  \"Security Cl...|[\\n  \"KS1218W78FG...|[\\n  \"Management\"...|[\\n  \"KS126HY6YLT...|[\\n  \"Microsoft O...|15-2051.01|Business Intellig...|15-2051.01|Business Intellig...|                  []|                  []|                  []|                  []|                  []|                  []|   15-0000|Computer and Math...|   15-2000|Mathematical Scie...|   15-2050|Data Scientists|   15-2051|Data Scientists|             23|Information Techn...|        231113|Data / Data Minin...|                  23111310|                   Data Analyst|                2311|     Data Analysis and...|                     23111310|                      Data Analyst|           231113|  Data / Data Minin...|                   2311|        Data Analysis and...|                23|   Information Techn...|15-0000|Computer and Math...|15-2000|Mathematical Scie...|15-2050|Data Scientists|15-2051|Data Scientists|             null|                  null|          52|Finance and Insur...|         524|Insurance Carrier...|        5242|Agencies, Brokera...|       52429|Other Insurance R...|      524291|    Claims Adjusting|\n",
      "|1b5c3941e54a1889e...|         9/6/2024|  2024-09-06 16:32:...|         1|6/2/2024|7/20/2024|      48| [\\n  \"Job Board\"\\n]|[\\n  \"disabledper...|[\\n  \"https://www...|         []|               null|Sr. Lead Data Mgm...|About this role:\\...|      6/12/2024|              10|37615159|         Wells Fargo|Wells Fargo|              false|      [\\n  99\\n]| [\\n  \"No Educatio...|           99|No Education Listed|         null|              null|              1|Full-time (> 32 h...|                   3|                null|        false|  null|          0|          [None]|               null|     null|       null|{\\n  \"lat\": 33.44...|    UGhvZW5peCwgQVo=|  Phoenix, AZ|  4013|  Maricopa, AZ|38060|Phoenix-Mesa-Chan...|    4|   Arizona|           4013|        Maricopa, AZ|           4013|        Maricopa, AZ|       38060|Phoenix-Mesa-Chan...|       38060|Phoenix-Mesa-Chan...|    52|Finance and Insur...|   522|Credit Intermedia...|  5221|Depository Credit...| 52211|  Commercial Banking|522110|  Commercial Banking|ET2114E0404BA30075|Management Analysts|sr lead data mgmt...|[\\n  \"KS123QX62QY...|[\\n  \"Exit Strate...|[\\n  \"KS123QX62QY...|   [\\n  \"Exit Strate...|                  []|                  []|[\\n  \"KS7G6NP6R6L...|[\\n  \"Reliability...|[\\n  \"KS4409D76NW...|[\\n  \"SAS (Softwa...|15-2051.01|Business Intellig...|15-2051.01|Business Intellig...|                  []|                  []|                  []|                  []|                  []|                  []|   15-0000|Computer and Math...|   15-2000|Mathematical Scie...|   15-2050|Data Scientists|   15-2051|Data Scientists|             23|Information Techn...|        231113|Data / Data Minin...|                  23111310|                   Data Analyst|                2311|     Data Analysis and...|                     23111310|                      Data Analyst|           231113|  Data / Data Minin...|                   2311|        Data Analysis and...|                23|   Information Techn...|15-0000|Computer and Math...|15-2000|Mathematical Scie...|15-2050|Data Scientists|15-2051|Data Scientists|        [\\n  6\\n]|  [\\n  \"Data Privac...|          52|Finance and Insur...|         522|Credit Intermedia...|        5221|Depository Credit...|       52211|  Commercial Banking|      522110|  Commercial Banking|\n",
      "|cb5ca25f02bdf25c1...|        6/19/2024|   2024-06-19 03:00:00|         0|6/2/2024|6/17/2024|      15|[\\n  \"FreeJobBoar...|[\\n  \"craigslist....|[\\n  \"https://mod...|         []|               null|Comisiones de $10...|Comisiones de $10...|      6/17/2024|              15|       0|        Unclassified|      LH/GM|              false|      [\\n  99\\n]| [\\n  \"No Educatio...|           99|No Education Listed|         null|              null|              3|Part-time / full-...|                null|                null|        false| 92500|          0|          [None]|               year|   150000|      35000|{\\n  \"lat\": 37.63...|    TW9kZXN0bywgQ0E=|  Modesto, CA|  6099|Stanislaus, CA|33700|         Modesto, CA|    6|California|           6099|      Stanislaus, CA|           6099|      Stanislaus, CA|       33700|         Modesto, CA|       33700|         Modesto, CA|    99|Unclassified Indu...|   999|Unclassified Indu...|  9999|Unclassified Indu...| 99999|Unclassified Indu...|999999|Unclassified Indu...|ET0000000000000000|       Unclassified|comisiones de por...|                  []|                  []|                  []|                     []|                  []|                  []|                  []|                  []|                  []|                  []|15-2051.01|Business Intellig...|15-2051.01|Business Intellig...|                  []|                  []|                  []|                  []|                  []|                  []|   15-0000|Computer and Math...|   15-2000|Mathematical Scie...|   15-2050|Data Scientists|   15-2051|Data Scientists|             23|Information Techn...|        231010|Business Intellig...|                  23101012|           Oracle Consultant...|                2310|     Business Intellig...|                     23101012|              Oracle Consultant...|           231010|  Business Intellig...|                   2310|        Business Intellig...|                23|   Information Techn...|15-0000|Computer and Math...|15-2000|Mathematical Scie...|15-2050|Data Scientists|15-2051|Data Scientists|             null|                  null|          99|Unclassified Indu...|         999|Unclassified Indu...|        9999|Unclassified Indu...|       99999|Unclassified Indu...|      999999|Unclassified Indu...|\n",
      "+--------------------+-----------------+----------------------+----------+--------+---------+--------+--------------------+--------------------+--------------------+-----------+-------------------+--------------------+--------------------+---------------+----------------+--------+--------------------+-----------+-------------------+----------------+---------------------+-------------+-------------------+-------------+------------------+---------------+--------------------+--------------------+--------------------+-------------+------+-----------+----------------+-------------------+---------+-----------+--------------------+--------------------+-------------+------+--------------+-----+--------------------+-----+----------+---------------+--------------------+---------------+--------------------+------------+--------------------+------------+--------------------+------+--------------------+------+--------------------+------+--------------------+------+--------------------+------+--------------------+------------------+-------------------+--------------------+--------------------+--------------------+--------------------+-----------------------+--------------------+--------------------+--------------------+--------------------+--------------------+--------------------+----------+--------------------+----------+--------------------+--------------------+--------------------+--------------------+--------------------+--------------------+--------------------+----------+--------------------+----------+--------------------+----------+---------------+----------+---------------+---------------+--------------------+--------------+--------------------+--------------------------+-------------------------------+--------------------+-------------------------+-----------------------------+----------------------------------+-----------------+----------------------+-----------------------+----------------------------+------------------+-----------------------+-------+--------------------+-------+--------------------+-------+---------------+-------+---------------+-----------------+----------------------+------------+--------------------+------------+--------------------+------------+--------------------+------------+--------------------+------------+--------------------+\n",
      "only showing top 5 rows\n",
      "\n"
     ]
    }
   ],
   "source": [
    "import pandas as pd\n",
    "import plotly.express as px\n",
    "import plotly.io as pio\n",
    "pio.renderers.default = \"vscode\"\n",
    "from pyspark.sql import SparkSession\n",
    "from pyspark.sql.functions import col\n",
    "\n",
    "\n",
    "# Initialize Spark Session\n",
    "spark = SparkSession.builder.appName(\"LightcastData\").getOrCreate()\n",
    "\n",
    "# Load Data\n",
    "df = spark.read.option(\"header\", \"true\").option(\"inferSchema\", \"true\").option(\"multiLine\",\"true\").option(\"escape\", \"\\\"\").csv(\"./data/lightcast_job_postings.csv\")\n",
    "\n",
    "# Show Schema and Sample Data\n",
    "df.printSchema()\n",
    "df.show(5)\n"
   ]
  },
  {
   "cell_type": "markdown",
   "metadata": {
    "vscode": {
     "languageId": "plaintext"
    }
   },
   "source": [
    "# Salary Distribution by Employment Type\n",
    "- Identify salary trends across different employment types.\n",
    "- **Filter the dataset**\n",
    "  - Remove records where **salary is missing or zero**.\n",
    "- **Aggregate Data**\n",
    "  - Group by **employment type** and compute salary distribution.\n",
    "- **Visualize results**\n",
    "  - Create a **box plot** where:\n",
    "    - **X-axis** = `EMPLOYMENT_TYPE_NAME`\n",
    "    - **Y-axis** = `SALARY_FROM`\n",
    "  - Customize **colors, fonts, and styles** to avoid a **2.5-point deduction**.\n",
    "- **Explanation:** Write two sentences about what the graph reveals.\n",
    "\n"
   ]
  },
  {
   "cell_type": "code",
   "execution_count": 6,
   "metadata": {},
   "outputs": [
    {
     "name": "stderr",
     "output_type": "stream",
     "text": [
      "                                                                                \r"
     ]
    },
    {
     "ename": "Py4JError",
     "evalue": "An error occurred while calling o58.pandasStructHandlingMode. Trace:\npy4j.Py4JException: Method pandasStructHandlingMode([]) does not exist\n\tat py4j.reflection.ReflectionEngine.getMethod(ReflectionEngine.java:318)\n\tat py4j.reflection.ReflectionEngine.getMethod(ReflectionEngine.java:326)\n\tat py4j.Gateway.invoke(Gateway.java:274)\n\tat py4j.commands.AbstractCommand.invokeMethod(AbstractCommand.java:132)\n\tat py4j.commands.CallCommand.execute(CallCommand.java:79)\n\tat py4j.ClientServerConnection.waitForCommands(ClientServerConnection.java:182)\n\tat py4j.ClientServerConnection.run(ClientServerConnection.java:106)\n\tat java.base/java.lang.Thread.run(Thread.java:829)\n\n",
     "output_type": "error",
     "traceback": [
      "\u001b[31m---------------------------------------------------------------------------\u001b[39m",
      "\u001b[31mPy4JError\u001b[39m                                 Traceback (most recent call last)",
      "\u001b[36mCell\u001b[39m\u001b[36m \u001b[39m\u001b[32mIn[6]\u001b[39m\u001b[32m, line 2\u001b[39m\n\u001b[32m      1\u001b[39m \u001b[38;5;66;03m# Your Code for 1st question here\u001b[39;00m\n\u001b[32m----> \u001b[39m\u001b[32m2\u001b[39m pdf = \u001b[43mdf\u001b[49m\u001b[43m.\u001b[49m\u001b[43mselect\u001b[49m\u001b[43m(\u001b[49m\u001b[33;43m\"\u001b[39;49m\u001b[33;43mEMPLOYMENT_TYPE_NAME\u001b[39;49m\u001b[33;43m\"\u001b[39;49m\u001b[43m,\u001b[49m\u001b[43m \u001b[49m\u001b[33;43m\"\u001b[39;49m\u001b[33;43mSALARY\u001b[39;49m\u001b[33;43m\"\u001b[39;49m\u001b[43m)\u001b[49m\u001b[43m.\u001b[49m\u001b[43mtoPandas\u001b[49m\u001b[43m(\u001b[49m\u001b[43m)\u001b[49m\n\u001b[32m      3\u001b[39m pdf.head()\n\u001b[32m      5\u001b[39m fig = px.box(pdf, x=\u001b[33m\"\u001b[39m\u001b[33mEMPLOYMENT_TYPE_NAME\u001b[39m\u001b[33m\"\u001b[39m, y=\u001b[33m\"\u001b[39m\u001b[33mSALARY\u001b[39m\u001b[33m\"\u001b[39m, title=\u001b[33m\"\u001b[39m\u001b[33mSalary Distribution by Employment Type\u001b[39m\u001b[33m\"\u001b[39m, color_discrete_sequence=[\u001b[33m\"\u001b[39m\u001b[33m#636EFA\u001b[39m\u001b[33m\"\u001b[39m])\n",
      "\u001b[36mFile \u001b[39m\u001b[32m~/lab06-CYXNBNBNB/env/lib/python3.12/site-packages/pyspark/sql/pandas/conversion.py:212\u001b[39m, in \u001b[36mPandasConversionMixin.toPandas\u001b[39m\u001b[34m(self)\u001b[39m\n\u001b[32m    210\u001b[39m \u001b[38;5;28;01mif\u001b[39;00m \u001b[38;5;28mlen\u001b[39m(pdf.columns) > \u001b[32m0\u001b[39m:\n\u001b[32m    211\u001b[39m     timezone = jconf.sessionLocalTimeZone()\n\u001b[32m--> \u001b[39m\u001b[32m212\u001b[39m     struct_in_pandas = \u001b[43mjconf\u001b[49m\u001b[43m.\u001b[49m\u001b[43mpandasStructHandlingMode\u001b[49m\u001b[43m(\u001b[49m\u001b[43m)\u001b[49m\n\u001b[32m    214\u001b[39m     \u001b[38;5;28;01mreturn\u001b[39;00m pd.concat(\n\u001b[32m    215\u001b[39m         [\n\u001b[32m    216\u001b[39m             _create_converter_to_pandas(\n\u001b[32m   (...)\u001b[39m\u001b[32m    228\u001b[39m         axis=\u001b[33m\"\u001b[39m\u001b[33mcolumns\u001b[39m\u001b[33m\"\u001b[39m,\n\u001b[32m    229\u001b[39m     )\n\u001b[32m    230\u001b[39m \u001b[38;5;28;01melse\u001b[39;00m:\n",
      "\u001b[36mFile \u001b[39m\u001b[32m~/lab06-CYXNBNBNB/env/lib/python3.12/site-packages/py4j/java_gateway.py:1322\u001b[39m, in \u001b[36mJavaMember.__call__\u001b[39m\u001b[34m(self, *args)\u001b[39m\n\u001b[32m   1316\u001b[39m command = proto.CALL_COMMAND_NAME +\\\n\u001b[32m   1317\u001b[39m     \u001b[38;5;28mself\u001b[39m.command_header +\\\n\u001b[32m   1318\u001b[39m     args_command +\\\n\u001b[32m   1319\u001b[39m     proto.END_COMMAND_PART\n\u001b[32m   1321\u001b[39m answer = \u001b[38;5;28mself\u001b[39m.gateway_client.send_command(command)\n\u001b[32m-> \u001b[39m\u001b[32m1322\u001b[39m return_value = \u001b[43mget_return_value\u001b[49m\u001b[43m(\u001b[49m\n\u001b[32m   1323\u001b[39m \u001b[43m    \u001b[49m\u001b[43manswer\u001b[49m\u001b[43m,\u001b[49m\u001b[43m \u001b[49m\u001b[38;5;28;43mself\u001b[39;49m\u001b[43m.\u001b[49m\u001b[43mgateway_client\u001b[49m\u001b[43m,\u001b[49m\u001b[43m \u001b[49m\u001b[38;5;28;43mself\u001b[39;49m\u001b[43m.\u001b[49m\u001b[43mtarget_id\u001b[49m\u001b[43m,\u001b[49m\u001b[43m \u001b[49m\u001b[38;5;28;43mself\u001b[39;49m\u001b[43m.\u001b[49m\u001b[43mname\u001b[49m\u001b[43m)\u001b[49m\n\u001b[32m   1325\u001b[39m \u001b[38;5;28;01mfor\u001b[39;00m temp_arg \u001b[38;5;129;01min\u001b[39;00m temp_args:\n\u001b[32m   1326\u001b[39m     \u001b[38;5;28;01mif\u001b[39;00m \u001b[38;5;28mhasattr\u001b[39m(temp_arg, \u001b[33m\"\u001b[39m\u001b[33m_detach\u001b[39m\u001b[33m\"\u001b[39m):\n",
      "\u001b[36mFile \u001b[39m\u001b[32m~/lab06-CYXNBNBNB/env/lib/python3.12/site-packages/pyspark/errors/exceptions/captured.py:179\u001b[39m, in \u001b[36mcapture_sql_exception.<locals>.deco\u001b[39m\u001b[34m(*a, **kw)\u001b[39m\n\u001b[32m    177\u001b[39m \u001b[38;5;28;01mdef\u001b[39;00m\u001b[38;5;250m \u001b[39m\u001b[34mdeco\u001b[39m(*a: Any, **kw: Any) -> Any:\n\u001b[32m    178\u001b[39m     \u001b[38;5;28;01mtry\u001b[39;00m:\n\u001b[32m--> \u001b[39m\u001b[32m179\u001b[39m         \u001b[38;5;28;01mreturn\u001b[39;00m \u001b[43mf\u001b[49m\u001b[43m(\u001b[49m\u001b[43m*\u001b[49m\u001b[43ma\u001b[49m\u001b[43m,\u001b[49m\u001b[43m \u001b[49m\u001b[43m*\u001b[49m\u001b[43m*\u001b[49m\u001b[43mkw\u001b[49m\u001b[43m)\u001b[49m\n\u001b[32m    180\u001b[39m     \u001b[38;5;28;01mexcept\u001b[39;00m Py4JJavaError \u001b[38;5;28;01mas\u001b[39;00m e:\n\u001b[32m    181\u001b[39m         converted = convert_exception(e.java_exception)\n",
      "\u001b[36mFile \u001b[39m\u001b[32m~/lab06-CYXNBNBNB/env/lib/python3.12/site-packages/py4j/protocol.py:330\u001b[39m, in \u001b[36mget_return_value\u001b[39m\u001b[34m(answer, gateway_client, target_id, name)\u001b[39m\n\u001b[32m    326\u001b[39m         \u001b[38;5;28;01mraise\u001b[39;00m Py4JJavaError(\n\u001b[32m    327\u001b[39m             \u001b[33m\"\u001b[39m\u001b[33mAn error occurred while calling \u001b[39m\u001b[38;5;132;01m{0}\u001b[39;00m\u001b[38;5;132;01m{1}\u001b[39;00m\u001b[38;5;132;01m{2}\u001b[39;00m\u001b[33m.\u001b[39m\u001b[38;5;130;01m\\n\u001b[39;00m\u001b[33m\"\u001b[39m.\n\u001b[32m    328\u001b[39m             \u001b[38;5;28mformat\u001b[39m(target_id, \u001b[33m\"\u001b[39m\u001b[33m.\u001b[39m\u001b[33m\"\u001b[39m, name), value)\n\u001b[32m    329\u001b[39m     \u001b[38;5;28;01melse\u001b[39;00m:\n\u001b[32m--> \u001b[39m\u001b[32m330\u001b[39m         \u001b[38;5;28;01mraise\u001b[39;00m Py4JError(\n\u001b[32m    331\u001b[39m             \u001b[33m\"\u001b[39m\u001b[33mAn error occurred while calling \u001b[39m\u001b[38;5;132;01m{0}\u001b[39;00m\u001b[38;5;132;01m{1}\u001b[39;00m\u001b[38;5;132;01m{2}\u001b[39;00m\u001b[33m. Trace:\u001b[39m\u001b[38;5;130;01m\\n\u001b[39;00m\u001b[38;5;132;01m{3}\u001b[39;00m\u001b[38;5;130;01m\\n\u001b[39;00m\u001b[33m\"\u001b[39m.\n\u001b[32m    332\u001b[39m             \u001b[38;5;28mformat\u001b[39m(target_id, \u001b[33m\"\u001b[39m\u001b[33m.\u001b[39m\u001b[33m\"\u001b[39m, name, value))\n\u001b[32m    333\u001b[39m \u001b[38;5;28;01melse\u001b[39;00m:\n\u001b[32m    334\u001b[39m     \u001b[38;5;28;01mraise\u001b[39;00m Py4JError(\n\u001b[32m    335\u001b[39m         \u001b[33m\"\u001b[39m\u001b[33mAn error occurred while calling \u001b[39m\u001b[38;5;132;01m{0}\u001b[39;00m\u001b[38;5;132;01m{1}\u001b[39;00m\u001b[38;5;132;01m{2}\u001b[39;00m\u001b[33m\"\u001b[39m.\n\u001b[32m    336\u001b[39m         \u001b[38;5;28mformat\u001b[39m(target_id, \u001b[33m\"\u001b[39m\u001b[33m.\u001b[39m\u001b[33m\"\u001b[39m, name))\n",
      "\u001b[31mPy4JError\u001b[39m: An error occurred while calling o58.pandasStructHandlingMode. Trace:\npy4j.Py4JException: Method pandasStructHandlingMode([]) does not exist\n\tat py4j.reflection.ReflectionEngine.getMethod(ReflectionEngine.java:318)\n\tat py4j.reflection.ReflectionEngine.getMethod(ReflectionEngine.java:326)\n\tat py4j.Gateway.invoke(Gateway.java:274)\n\tat py4j.commands.AbstractCommand.invokeMethod(AbstractCommand.java:132)\n\tat py4j.commands.CallCommand.execute(CallCommand.java:79)\n\tat py4j.ClientServerConnection.waitForCommands(ClientServerConnection.java:182)\n\tat py4j.ClientServerConnection.run(ClientServerConnection.java:106)\n\tat java.base/java.lang.Thread.run(Thread.java:829)\n\n"
     ]
    }
   ],
   "source": [
    "# Your Code for 1st question here\n",
    "pdf = df.select(\"EMPLOYMENT_TYPE_NAME\", \"SALARY\").toPandas()\n",
    "pdf.head()\n",
    "\n",
    "fig = px.box(pdf, x=\"EMPLOYMENT_TYPE_NAME\", y=\"SALARY\", title=\"Salary Distribution by Employment Type\", color_discrete_sequence=[\"#636EFA\"])\n",
    "fig.update_layout(font_family=\"Arial\", title_font_size=16)\n",
    "fig.show()"
   ]
  },
  {
   "cell_type": "markdown",
   "metadata": {
    "vscode": {
     "languageId": "plaintext"
    }
   },
   "source": [
    "# Salary Distribution by Industry\n",
    "- Compare salary variations across industries.\n",
    "- **Filter the dataset**\n",
    "  - Keep records where **salary is greater than zero**.\n",
    "- **Aggregate Data**\n",
    "  - Group by **NAICS industry codes**.\n",
    "- **Visualize results**\n",
    "  - Create a **box plot** where:\n",
    "    - **X-axis** = `NAICS2_NAME`\n",
    "    - **Y-axis** = `SALARY_FROM`\n",
    "  - Customize colors, fonts, and styles.\n",
    "- **Explanation:** Write two sentences about what the graph reveals."
   ]
  },
  {
   "cell_type": "code",
   "execution_count": null,
   "metadata": {},
   "outputs": [],
   "source": [
    "# Your code for 2nd question here"
   ]
  },
  {
   "cell_type": "markdown",
   "metadata": {},
   "source": [
    "# Job Posting Trends Over Time\n",
    "- Analyze how job postings fluctuate over time.\n",
    "- **Aggregate Data**\n",
    "  - Count job postings per **posted date (`POSTED`)**.\n",
    "- **Visualize results**\n",
    "  - Create a **line chart** where:\n",
    "    - **X-axis** = `POSTED`\n",
    "    - **Y-axis** = `Number of Job Postings`\n",
    "  - Apply custom colors and font styles.\n",
    "- **Explanation:** Write two sentences about what the graph reveals."
   ]
  },
  {
   "cell_type": "code",
   "execution_count": null,
   "metadata": {},
   "outputs": [],
   "source": [
    "# Your code for 3rd question here"
   ]
  },
  {
   "cell_type": "markdown",
   "metadata": {},
   "source": [
    "# Top 10 Job Titles by Count\n",
    "- Identify the most frequently posted job titles.\n",
    "- **Aggregate Data**\n",
    "  - Count the occurrences of each **job title (`TITLE_NAME`)**.\n",
    "  - Select the **top 10 most frequent titles**.\n",
    "- **Visualize results**\n",
    "  - Create a **bar chart** where:\n",
    "    - **X-axis** = `TITLE_NAME`\n",
    "    - **Y-axis** = `Job Count`\n",
    "  - Apply custom colors and font styles.\n",
    "- **Explanation:** Write two sentences about what the graph reveals."
   ]
  },
  {
   "cell_type": "code",
   "execution_count": null,
   "metadata": {},
   "outputs": [],
   "source": [
    "# Your code for 4th question here"
   ]
  },
  {
   "cell_type": "markdown",
   "metadata": {},
   "source": [
    "# Remote vs On-Site Job Postings\n",
    "- Compare the proportion of remote and on-site job postings.\n",
    "- **Aggregate Data**\n",
    "  - Count job postings by **remote type (`REMOTE_TYPE_NAME`)**.\n",
    "- **Visualize results**\n",
    "  - Create a **pie chart** where:\n",
    "    - **Labels** = `REMOTE_TYPE_NAME`\n",
    "    - **Values** = `Job Count`\n",
    "  - Apply custom colors and font styles.\n",
    "- **Explanation:** Write two sentences about what the graph reveals."
   ]
  },
  {
   "cell_type": "code",
   "execution_count": null,
   "metadata": {},
   "outputs": [],
   "source": [
    "# Your code for 5th question here"
   ]
  },
  {
   "cell_type": "markdown",
   "metadata": {},
   "source": [
    "# Skill Demand Analysis by Industry (Stacked Bar Chart)\n",
    "- Identify which skills are most in demand in various industries.\n",
    "- **Aggregate Data**\n",
    "  - Extract **skills** from job postings.\n",
    "  - Count occurrences of skills grouped by **NAICS industry codes**.\n",
    "- **Visualize results**\n",
    "  - Create a **stacked bar chart** where:\n",
    "    - **X-axis** = `Industry`\n",
    "    - **Y-axis** = `Skill Count`\n",
    "    - **Color** = `Skill`\n",
    "  - Apply custom colors and font styles.\n",
    "- **Explanation:** Write two sentences about what the graph reveals."
   ]
  },
  {
   "cell_type": "code",
   "execution_count": null,
   "metadata": {},
   "outputs": [],
   "source": [
    "# Your code for 6th question here"
   ]
  },
  {
   "cell_type": "markdown",
   "metadata": {},
   "source": [
    "\n",
    "# Salary Analysis by ONET Occupation Type (Bubble Chart)\n",
    "- Analyze how salaries differ across ONET occupation types.\n",
    "- **Aggregate Data**\n",
    "  - Compute **median salary** for each occupation in the **ONET taxonomy**.\n",
    "- **Visualize results**\n",
    "  - Create a **bubble chart** where:\n",
    "    - **X-axis** = `ONET_NAME`\n",
    "    - **Y-axis** = `Median Salary`\n",
    "    - **Size** = Number of job postings\n",
    "  - Apply custom colors and font styles.\n",
    "- **Explanation:** Write two sentences about what the graph reveals."
   ]
  },
  {
   "cell_type": "code",
   "execution_count": null,
   "metadata": {},
   "outputs": [],
   "source": [
    "# Your code for 7th question here"
   ]
  },
  {
   "cell_type": "markdown",
   "metadata": {},
   "source": [
    "# Career Pathway Trends (Sankey Diagram)\n",
    "- Visualize job transitions between different occupation levels.\n",
    "- **Aggregate Data**\n",
    "  - Identify career transitions between **SOC job classifications**.\n",
    "- **Visualize results**\n",
    "  - Create a **Sankey diagram** where:\n",
    "    - **Source** = `SOC_2021_2_NAME`\n",
    "    - **Target** = `SOC_2021_3_NAME`\n",
    "    - **Value** = Number of transitions\n",
    "  - Apply custom colors and font styles.\n",
    "- **Explanation:** Write two sentences about what the graph reveals."
   ]
  },
  {
   "cell_type": "code",
   "execution_count": null,
   "metadata": {},
   "outputs": [],
   "source": [
    "# Your code for 8th question here"
   ]
  }
 ],
 "metadata": {
  "kernelspec": {
   "display_name": "env",
   "language": "python",
   "name": "python3"
  },
  "language_info": {
   "codemirror_mode": {
    "name": "ipython",
    "version": 3
   },
   "file_extension": ".py",
   "mimetype": "text/x-python",
   "name": "python",
   "nbconvert_exporter": "python",
   "pygments_lexer": "ipython3",
   "version": "3.12.3"
  }
 },
 "nbformat": 4,
 "nbformat_minor": 2
}
